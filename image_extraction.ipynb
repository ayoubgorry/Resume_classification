{
  "nbformat": 4,
  "nbformat_minor": 0,
  "metadata": {
    "colab": {
      "provenance": []
    },
    "kernelspec": {
      "name": "python3",
      "display_name": "Python 3"
    },
    "language_info": {
      "name": "python"
    }
  },
  "cells": [
    {
      "cell_type": "code",
      "execution_count": 1,
      "metadata": {
        "id": "-8SkRoiqDy7K"
      },
      "outputs": [],
      "source": [
        "%%capture\n",
        "!pip install pytesseract\n",
        "!pip install tqdm\n",
        "!pip install joblib\n",
        "!pip install pandas\n",
        "!pip install numpy\n",
        "!pip install opencv-python\n",
        "!apt-get install tesseract-ocr -y"
      ]
    },
    {
      "cell_type": "code",
      "source": [
        "import os\n",
        "import cv2\n",
        "import numpy as np\n",
        "import pandas as pd\n",
        "import pytesseract\n",
        "from PIL import Image\n",
        "import matplotlib.pyplot as plt\n",
        "from tqdm import tqdm\n",
        "import imghdr\n",
        "import re\n",
        "import joblib\n",
        "import datetime\n",
        "import json"
      ],
      "metadata": {
        "id": "mRYAe__RD7mM"
      },
      "execution_count": 2,
      "outputs": []
    },
    {
      "cell_type": "code",
      "source": [
        "from google.colab import drive\n",
        "\n",
        "# Correct mount point without spaces\n",
        "drive.mount('/content/Mon_drive', force_remount=True)"
      ],
      "metadata": {
        "colab": {
          "base_uri": "https://localhost:8080/"
        },
        "id": "WUXOFgrREBdx",
        "outputId": "0ab4bb47-e074-486a-fd04-25a36e70b281"
      },
      "execution_count": 3,
      "outputs": [
        {
          "output_type": "stream",
          "name": "stdout",
          "text": [
            "Mounted at /content/Mon_drive\n"
          ]
        }
      ]
    },
    {
      "cell_type": "code",
      "source": [
        "class Config:\n",
        "    # Chemins principaux (utilisez DriveConfig.BASE_PATH si vous êtes sur Google Drive)\n",
        "    BASE_PATH = \"/content/Mon_drive/MyDrive/Projet_ml\"\n",
        "    DATA_PATH = f\"{BASE_PATH}/data/Bing_images\"\n",
        "    MODELS_PATH = f\"{BASE_PATH}/models\"\n",
        "    OUTPUT_PATH = f\"{BASE_PATH}/output\"\n",
        "\n",
        "    # Paramètres de validation d'image\n",
        "    VALID_EXTENSIONS = {'.jpg', '.jpeg', '.png', '.pdf'}\n",
        "    MIN_IMAGE_SIZE = (100, 100)\n",
        "    MAX_FILE_SIZE = 10 * 1024 * 1024  # 10MB"
      ],
      "metadata": {
        "id": "NEmOaWKvEMfd"
      },
      "execution_count": 10,
      "outputs": []
    },
    {
      "cell_type": "code",
      "source": [
        "def check_drive_mounted():\n",
        "        \"\"\"Vérifie si Google Drive est monté\"\"\"\n",
        "        return os.path.exists(\"/content/Mon_drive\")\n",
        "\n",
        "def count_files_by_sector():\n",
        "    \"\"\"Compte les fichiers par secteur\"\"\"\n",
        "    counts = {}\n",
        "    if not os.path.exists(Config.DATA_PATH):\n",
        "        print(\"Dossier data non trouvé!\")\n",
        "        return counts\n",
        "\n",
        "    for sector in os.listdir(Config.DATA_PATH):\n",
        "        sector_path = os.path.join(Config.DATA_PATH, sector)\n",
        "        if os.path.isdir(sector_path):\n",
        "            counts[sector] = len([f for f in os.listdir(sector_path)\n",
        "                                if os.path.isfile(os.path.join(sector_path, f))])\n",
        "\n",
        "    return counts"
      ],
      "metadata": {
        "id": "Om7T7OJQEoMB"
      },
      "execution_count": 28,
      "outputs": []
    },
    {
      "cell_type": "code",
      "source": [
        "check_drive_mounted()\n",
        "count_files_by_sector()"
      ],
      "metadata": {
        "colab": {
          "base_uri": "https://localhost:8080/"
        },
        "id": "0ZmxXp5oE2S1",
        "outputId": "f29d8786-f708-4f0f-a976-0565a3160ae1"
      },
      "execution_count": 12,
      "outputs": [
        {
          "output_type": "execute_result",
          "data": {
            "text/plain": [
              "{'SAP Developer resumes': 64,\n",
              " 'Testing resumes': 76,\n",
              " 'Sales resumes': 95,\n",
              " 'SQL Developer resumes': 82,\n",
              " 'web designing resumes': 59,\n",
              " 'React Developer resumes': 18,\n",
              " 'Managment resumes': 70,\n",
              " 'Operations Manager resumes': 79,\n",
              " 'Public Relations resumes': 71,\n",
              " 'HR resumes': 88,\n",
              " 'Java Developer resumes': 78,\n",
              " 'Mechanical Engineer resumes': 105,\n",
              " 'PMO resumes': 52,\n",
              " 'Python Developer resumes': 58,\n",
              " 'Information Technology resumes': 50,\n",
              " 'Network Security Engineer resumes': 64,\n",
              " 'Health_Fitness resumes': 77,\n",
              " 'Digital Media resumes': 68,\n",
              " 'Designing resumes': 39,\n",
              " 'Electrical Engineering resumes': 79,\n",
              " 'ETL Developer resumes': 65,\n",
              " 'Education resumes': 62,\n",
              " 'DotNet Developer resumes': 63,\n",
              " 'DevOps Engineer resumes': 87,\n",
              " 'Finance resumes': 58,\n",
              " 'Food_Beverages resumes': 62,\n",
              " 'data science resumes': 120,\n",
              " 'Consultant resumes': 73,\n",
              " 'Blockchain resumes': 9,\n",
              " 'Database resumes': 76,\n",
              " 'Banking resumes': 43,\n",
              " 'Building _Construction resumes': 56,\n",
              " 'BPO resumes': 30,\n",
              " 'Business Analyst resumes': 66,\n",
              " 'Aviation resumes': 51,\n",
              " 'Civil Engineer resumes': 89,\n",
              " 'Apparel resumes': 51,\n",
              " 'Automobile resumes': 41,\n",
              " 'Arts resumes': 87,\n",
              " 'Agricultural resumes': 68,\n",
              " 'Architects resumes': 62,\n",
              " 'Advocate resumes': 94,\n",
              " 'Accountant resumes': 67}"
            ]
          },
          "metadata": {},
          "execution_count": 12
        }
      ]
    },
    {
      "cell_type": "code",
      "source": [
        "def is_valid_image(file_path):\n",
        "        \"\"\"Vérifie si l'image est valide\"\"\"\n",
        "        try:\n",
        "            ext = os.path.splitext(file_path)[1].lower()\n",
        "            if ext not in Config.VALID_EXTENSIONS:\n",
        "                return False, \"Extension non valide\"\n",
        "\n",
        "            if os.path.getsize(file_path) > Config.MAX_FILE_SIZE:\n",
        "                return False, \"Fichier trop volumineux\"\n",
        "\n",
        "            img = cv2.imread(file_path)\n",
        "            if img is None:\n",
        "                return False, \"Fichier non lisible comme image\"\n",
        "\n",
        "            height, width = img.shape[:2]\n",
        "            if height < Config.MIN_IMAGE_SIZE[0] or width < Config.MIN_IMAGE_SIZE[1]:\n",
        "                return False, \"Image trop petite\"\n",
        "\n",
        "            return True, \"Image valide\"\n",
        "        except Exception as e:\n",
        "            return False, f\"Erreur: {str(e)}\""
      ],
      "metadata": {
        "id": "BCjUrKgcFQbJ"
      },
      "execution_count": 13,
      "outputs": []
    },
    {
      "cell_type": "code",
      "source": [
        "def preprocess(image):\n",
        "        \"\"\"Prétraite l'image pour améliorer l'OCR\"\"\"\n",
        "        gray = cv2.cvtColor(image, cv2.COLOR_BGR2GRAY)\n",
        "        denoised = cv2.fastNlMeansDenoising(gray)\n",
        "        clahe = cv2.createCLAHE(clipLimit=2.0, tileGridSize=(8,8))\n",
        "        enhanced = clahe.apply(denoised)\n",
        "        return enhanced\n",
        "def extract_text(image):\n",
        "        \"\"\"Extrait le texte de l'image\"\"\"\n",
        "        try:\n",
        "            text = pytesseract.image_to_string(image)\n",
        "            return text.strip()\n",
        "        except Exception as e:\n",
        "            print(f\"Erreur lors de l'extraction du texte: {str(e)}\")\n",
        "            return \"\""
      ],
      "metadata": {
        "id": "_lsqjFWhHpVc"
      },
      "execution_count": 18,
      "outputs": []
    },
    {
      "cell_type": "code",
      "source": [
        "def process_and_save_data(base_path, output_csv_path):\n",
        "    \"\"\"Traite les données et les sauvegarde en CSV\"\"\"\n",
        "    data = {\n",
        "        'Category': [],\n",
        "        'Resume': []\n",
        "    }\n",
        "\n",
        "    stats = {'total': 0, 'valid': 0, 'invalid': 0, 'errors': {}}\n",
        "\n",
        "    for sector in os.listdir(base_path):\n",
        "        sector_path = os.path.join(base_path, sector)\n",
        "        sector.replace(\"resumes\", \"\").strip()\n",
        "        if os.path.isdir(sector_path):\n",
        "            print(f\"\\nTraitement du secteur: {sector}\")\n",
        "\n",
        "            for cv_file in tqdm(os.listdir(sector_path)):\n",
        "                stats['total'] += 1\n",
        "                cv_path = os.path.join(sector_path, cv_file)\n",
        "\n",
        "                try:\n",
        "                    is_valid, message = is_valid_image(cv_path)\n",
        "\n",
        "                    if not is_valid:\n",
        "                        data['Category'].append(sector)\n",
        "                        data['Resume'].append('')\n",
        "                        stats['invalid'] += 1\n",
        "                        stats['errors'][cv_path] = message\n",
        "                        continue\n",
        "\n",
        "                    image = cv2.imread(cv_path)\n",
        "                    processed_image = preprocess(image)\n",
        "                    text = extract_text(processed_image)\n",
        "\n",
        "                    if len(text) > 50:\n",
        "                        status = \"Valid\"\n",
        "                        stats['valid'] += 1\n",
        "                    else:\n",
        "                        status = \"Invalid: Texte insuffisant\"\n",
        "                        stats['invalid'] += 1\n",
        "                        stats['errors'][cv_path] = \"Texte insuffisant\"\n",
        "\n",
        "                    data['Category'].append(sector)\n",
        "                    data['Resume'].append(text)\n",
        "\n",
        "                except Exception as e:\n",
        "                    stats['invalid'] += 1\n",
        "                    stats['errors'][cv_path] = str(e)\n",
        "\n",
        "                    data['Category'].append(sector)\n",
        "                    data['Resume'].append('')\n",
        "\n",
        "    df = pd.DataFrame(data)\n",
        "    df.to_csv(output_csv_path, index=False)\n",
        "\n",
        "    print(\"\\nStatistiques du traitement:\")\n",
        "    print(f\"Total des fichiers: {stats['total']}\")\n",
        "    print(f\"Fichiers valides: {stats['valid']}\")\n",
        "    print(f\"Fichiers invalides: {stats['invalid']}\")\n",
        "\n",
        "    return df, stats"
      ],
      "metadata": {
        "id": "Kl5wjd7kF8w_"
      },
      "execution_count": 25,
      "outputs": []
    },
    {
      "cell_type": "code",
      "source": [
        "df, stats = process_and_save_data(Config.DATA_PATH,os.path.join(Config.OUTPUT_PATH, \"dataset_resumes.csv\"))"
      ],
      "metadata": {
        "colab": {
          "base_uri": "https://localhost:8080/"
        },
        "id": "k2pppXodJhfI",
        "outputId": "bd055f83-d1bf-4fcd-ef8c-40270b391ccd"
      },
      "execution_count": 27,
      "outputs": [
        {
          "metadata": {
            "tags": null
          },
          "name": "stdout",
          "output_type": "stream",
          "text": [
            "\n",
            "Traitement du secteur: SAP Developer resumes\n"
          ]
        },
        {
          "metadata": {
            "tags": null
          },
          "name": "stderr",
          "output_type": "stream",
          "text": [
            "100%|██████████| 64/64 [07:24<00:00,  6.94s/it]\n"
          ]
        },
        {
          "metadata": {
            "tags": null
          },
          "name": "stdout",
          "output_type": "stream",
          "text": [
            "\n",
            "Traitement du secteur: Testing resumes\n"
          ]
        },
        {
          "metadata": {
            "tags": null
          },
          "name": "stderr",
          "output_type": "stream",
          "text": [
            "100%|██████████| 76/76 [10:03<00:00,  7.94s/it]\n"
          ]
        },
        {
          "metadata": {
            "tags": null
          },
          "name": "stdout",
          "output_type": "stream",
          "text": [
            "\n",
            "Traitement du secteur: Sales resumes\n"
          ]
        },
        {
          "metadata": {
            "tags": null
          },
          "name": "stderr",
          "output_type": "stream",
          "text": [
            "100%|██████████| 95/95 [12:44<00:00,  8.05s/it]\n"
          ]
        },
        {
          "metadata": {
            "tags": null
          },
          "name": "stdout",
          "output_type": "stream",
          "text": [
            "\n",
            "Traitement du secteur: SQL Developer resumes\n"
          ]
        },
        {
          "metadata": {
            "tags": null
          },
          "name": "stderr",
          "output_type": "stream",
          "text": [
            "100%|██████████| 82/82 [09:23<00:00,  6.88s/it]\n"
          ]
        },
        {
          "metadata": {
            "tags": null
          },
          "name": "stdout",
          "output_type": "stream",
          "text": [
            "\n",
            "Traitement du secteur: web designing resumes\n"
          ]
        },
        {
          "metadata": {
            "tags": null
          },
          "name": "stderr",
          "output_type": "stream",
          "text": [
            "100%|██████████| 59/59 [08:07<00:00,  8.27s/it]\n"
          ]
        },
        {
          "metadata": {
            "tags": null
          },
          "name": "stdout",
          "output_type": "stream",
          "text": [
            "\n",
            "Traitement du secteur: React Developer resumes\n"
          ]
        },
        {
          "metadata": {
            "tags": null
          },
          "name": "stderr",
          "output_type": "stream",
          "text": [
            "100%|██████████| 18/18 [02:36<00:00,  8.70s/it]\n"
          ]
        },
        {
          "metadata": {
            "tags": null
          },
          "name": "stdout",
          "output_type": "stream",
          "text": [
            "\n",
            "Traitement du secteur: Managment resumes\n"
          ]
        },
        {
          "metadata": {
            "tags": null
          },
          "name": "stderr",
          "output_type": "stream",
          "text": [
            "100%|██████████| 70/70 [09:39<00:00,  8.28s/it]\n"
          ]
        },
        {
          "metadata": {
            "tags": null
          },
          "name": "stdout",
          "output_type": "stream",
          "text": [
            "\n",
            "Traitement du secteur: Operations Manager resumes\n"
          ]
        },
        {
          "metadata": {
            "tags": null
          },
          "name": "stderr",
          "output_type": "stream",
          "text": [
            "100%|██████████| 79/79 [11:49<00:00,  8.98s/it]\n"
          ]
        },
        {
          "metadata": {
            "tags": null
          },
          "name": "stdout",
          "output_type": "stream",
          "text": [
            "\n",
            "Traitement du secteur: Public Relations resumes\n"
          ]
        },
        {
          "metadata": {
            "tags": null
          },
          "name": "stderr",
          "output_type": "stream",
          "text": [
            "100%|██████████| 71/71 [08:10<00:00,  6.91s/it]\n"
          ]
        },
        {
          "metadata": {
            "tags": null
          },
          "name": "stdout",
          "output_type": "stream",
          "text": [
            "\n",
            "Traitement du secteur: HR resumes\n"
          ]
        },
        {
          "metadata": {
            "tags": null
          },
          "name": "stderr",
          "output_type": "stream",
          "text": [
            "100%|██████████| 88/88 [10:31<00:00,  7.17s/it]\n"
          ]
        },
        {
          "metadata": {
            "tags": null
          },
          "name": "stdout",
          "output_type": "stream",
          "text": [
            "\n",
            "Traitement du secteur: Java Developer resumes\n"
          ]
        },
        {
          "metadata": {
            "tags": null
          },
          "name": "stderr",
          "output_type": "stream",
          "text": [
            "100%|██████████| 78/78 [10:14<00:00,  7.88s/it]\n"
          ]
        },
        {
          "metadata": {
            "tags": null
          },
          "name": "stdout",
          "output_type": "stream",
          "text": [
            "\n",
            "Traitement du secteur: Mechanical Engineer resumes\n"
          ]
        },
        {
          "metadata": {
            "tags": null
          },
          "name": "stderr",
          "output_type": "stream",
          "text": [
            "100%|██████████| 105/105 [13:55<00:00,  7.96s/it]\n"
          ]
        },
        {
          "metadata": {
            "tags": null
          },
          "name": "stdout",
          "output_type": "stream",
          "text": [
            "\n",
            "Traitement du secteur: PMO resumes\n"
          ]
        },
        {
          "metadata": {
            "tags": null
          },
          "name": "stderr",
          "output_type": "stream",
          "text": [
            "100%|██████████| 52/52 [06:39<00:00,  7.68s/it]\n"
          ]
        },
        {
          "metadata": {
            "tags": null
          },
          "name": "stdout",
          "output_type": "stream",
          "text": [
            "\n",
            "Traitement du secteur: Python Developer resumes\n"
          ]
        },
        {
          "metadata": {
            "tags": null
          },
          "name": "stderr",
          "output_type": "stream",
          "text": [
            "100%|██████████| 58/58 [08:09<00:00,  8.44s/it]\n"
          ]
        },
        {
          "metadata": {
            "tags": null
          },
          "name": "stdout",
          "output_type": "stream",
          "text": [
            "\n",
            "Traitement du secteur: Information Technology resumes\n"
          ]
        },
        {
          "metadata": {
            "tags": null
          },
          "name": "stderr",
          "output_type": "stream",
          "text": [
            "100%|██████████| 50/50 [05:48<00:00,  6.97s/it]\n"
          ]
        },
        {
          "metadata": {
            "tags": null
          },
          "name": "stdout",
          "output_type": "stream",
          "text": [
            "\n",
            "Traitement du secteur: Network Security Engineer resumes\n"
          ]
        },
        {
          "metadata": {
            "tags": null
          },
          "name": "stderr",
          "output_type": "stream",
          "text": [
            "100%|██████████| 64/64 [09:06<00:00,  8.55s/it]\n"
          ]
        },
        {
          "metadata": {
            "tags": null
          },
          "name": "stdout",
          "output_type": "stream",
          "text": [
            "\n",
            "Traitement du secteur: Health_Fitness resumes\n"
          ]
        },
        {
          "metadata": {
            "tags": null
          },
          "name": "stderr",
          "output_type": "stream",
          "text": [
            "100%|██████████| 77/77 [08:03<00:00,  6.29s/it]\n"
          ]
        },
        {
          "metadata": {
            "tags": null
          },
          "name": "stdout",
          "output_type": "stream",
          "text": [
            "\n",
            "Traitement du secteur: Digital Media resumes\n"
          ]
        },
        {
          "metadata": {
            "tags": null
          },
          "name": "stderr",
          "output_type": "stream",
          "text": [
            "100%|██████████| 68/68 [08:30<00:00,  7.50s/it]\n"
          ]
        },
        {
          "metadata": {
            "tags": null
          },
          "name": "stdout",
          "output_type": "stream",
          "text": [
            "\n",
            "Traitement du secteur: Designing resumes\n"
          ]
        },
        {
          "metadata": {
            "tags": null
          },
          "name": "stderr",
          "output_type": "stream",
          "text": [
            "100%|██████████| 39/39 [06:47<00:00, 10.44s/it]\n"
          ]
        },
        {
          "metadata": {
            "tags": null
          },
          "name": "stdout",
          "output_type": "stream",
          "text": [
            "\n",
            "Traitement du secteur: Electrical Engineering resumes\n"
          ]
        },
        {
          "metadata": {
            "tags": null
          },
          "name": "stderr",
          "output_type": "stream",
          "text": [
            "100%|██████████| 79/79 [09:14<00:00,  7.01s/it]\n"
          ]
        },
        {
          "metadata": {
            "tags": null
          },
          "name": "stdout",
          "output_type": "stream",
          "text": [
            "\n",
            "Traitement du secteur: ETL Developer resumes\n"
          ]
        },
        {
          "metadata": {
            "tags": null
          },
          "name": "stderr",
          "output_type": "stream",
          "text": [
            "100%|██████████| 65/65 [08:41<00:00,  8.02s/it]\n"
          ]
        },
        {
          "metadata": {
            "tags": null
          },
          "name": "stdout",
          "output_type": "stream",
          "text": [
            "\n",
            "Traitement du secteur: Education resumes\n"
          ]
        },
        {
          "metadata": {
            "tags": null
          },
          "name": "stderr",
          "output_type": "stream",
          "text": [
            "100%|██████████| 62/62 [06:24<00:00,  6.21s/it]\n"
          ]
        },
        {
          "metadata": {
            "tags": null
          },
          "name": "stdout",
          "output_type": "stream",
          "text": [
            "\n",
            "Traitement du secteur: DotNet Developer resumes\n"
          ]
        },
        {
          "metadata": {
            "tags": null
          },
          "name": "stderr",
          "output_type": "stream",
          "text": [
            "100%|██████████| 63/63 [07:47<00:00,  7.42s/it]\n"
          ]
        },
        {
          "metadata": {
            "tags": null
          },
          "name": "stdout",
          "output_type": "stream",
          "text": [
            "\n",
            "Traitement du secteur: DevOps Engineer resumes\n"
          ]
        },
        {
          "metadata": {
            "tags": null
          },
          "name": "stderr",
          "output_type": "stream",
          "text": [
            "100%|██████████| 87/87 [13:27<00:00,  9.29s/it]\n"
          ]
        },
        {
          "metadata": {
            "tags": null
          },
          "name": "stdout",
          "output_type": "stream",
          "text": [
            "\n",
            "Traitement du secteur: Finance resumes\n"
          ]
        },
        {
          "metadata": {
            "tags": null
          },
          "name": "stderr",
          "output_type": "stream",
          "text": [
            "100%|██████████| 58/58 [07:44<00:00,  8.01s/it]\n"
          ]
        },
        {
          "metadata": {
            "tags": null
          },
          "name": "stdout",
          "output_type": "stream",
          "text": [
            "\n",
            "Traitement du secteur: Food_Beverages resumes\n"
          ]
        },
        {
          "metadata": {
            "tags": null
          },
          "name": "stderr",
          "output_type": "stream",
          "text": [
            "100%|██████████| 62/62 [06:46<00:00,  6.56s/it]\n"
          ]
        },
        {
          "metadata": {
            "tags": null
          },
          "name": "stdout",
          "output_type": "stream",
          "text": [
            "\n",
            "Traitement du secteur: data science resumes\n"
          ]
        },
        {
          "metadata": {
            "tags": null
          },
          "name": "stderr",
          "output_type": "stream",
          "text": [
            "100%|██████████| 120/120 [08:01<00:00,  4.01s/it]\n"
          ]
        },
        {
          "metadata": {
            "tags": null
          },
          "name": "stdout",
          "output_type": "stream",
          "text": [
            "\n",
            "Traitement du secteur: Consultant resumes\n"
          ]
        },
        {
          "metadata": {
            "tags": null
          },
          "name": "stderr",
          "output_type": "stream",
          "text": [
            "100%|██████████| 73/73 [09:40<00:00,  7.95s/it]\n"
          ]
        },
        {
          "metadata": {
            "tags": null
          },
          "name": "stdout",
          "output_type": "stream",
          "text": [
            "\n",
            "Traitement du secteur: Blockchain resumes\n"
          ]
        },
        {
          "metadata": {
            "tags": null
          },
          "name": "stderr",
          "output_type": "stream",
          "text": [
            "100%|██████████| 9/9 [01:15<00:00,  8.40s/it]\n"
          ]
        },
        {
          "metadata": {
            "tags": null
          },
          "name": "stdout",
          "output_type": "stream",
          "text": [
            "\n",
            "Traitement du secteur: Database resumes\n"
          ]
        },
        {
          "metadata": {
            "tags": null
          },
          "name": "stderr",
          "output_type": "stream",
          "text": [
            "100%|██████████| 76/76 [10:01<00:00,  7.92s/it]\n"
          ]
        },
        {
          "metadata": {
            "tags": null
          },
          "name": "stdout",
          "output_type": "stream",
          "text": [
            "\n",
            "Traitement du secteur: Banking resumes\n"
          ]
        },
        {
          "metadata": {
            "tags": null
          },
          "name": "stderr",
          "output_type": "stream",
          "text": [
            "100%|██████████| 43/43 [05:17<00:00,  7.39s/it]\n"
          ]
        },
        {
          "metadata": {
            "tags": null
          },
          "name": "stdout",
          "output_type": "stream",
          "text": [
            "\n",
            "Traitement du secteur: Building _Construction resumes\n"
          ]
        },
        {
          "metadata": {
            "tags": null
          },
          "name": "stderr",
          "output_type": "stream",
          "text": [
            "100%|██████████| 56/56 [06:41<00:00,  7.17s/it]\n"
          ]
        },
        {
          "metadata": {
            "tags": null
          },
          "name": "stdout",
          "output_type": "stream",
          "text": [
            "\n",
            "Traitement du secteur: BPO resumes\n"
          ]
        },
        {
          "metadata": {
            "tags": null
          },
          "name": "stderr",
          "output_type": "stream",
          "text": [
            "100%|██████████| 30/30 [03:13<00:00,  6.45s/it]\n"
          ]
        },
        {
          "metadata": {
            "tags": null
          },
          "name": "stdout",
          "output_type": "stream",
          "text": [
            "\n",
            "Traitement du secteur: Business Analyst resumes\n"
          ]
        },
        {
          "metadata": {
            "tags": null
          },
          "name": "stderr",
          "output_type": "stream",
          "text": [
            "100%|██████████| 66/66 [09:02<00:00,  8.22s/it]\n"
          ]
        },
        {
          "metadata": {
            "tags": null
          },
          "name": "stdout",
          "output_type": "stream",
          "text": [
            "\n",
            "Traitement du secteur: Aviation resumes\n"
          ]
        },
        {
          "metadata": {
            "tags": null
          },
          "name": "stderr",
          "output_type": "stream",
          "text": [
            "100%|██████████| 51/51 [06:02<00:00,  7.12s/it]\n"
          ]
        },
        {
          "metadata": {
            "tags": null
          },
          "name": "stdout",
          "output_type": "stream",
          "text": [
            "\n",
            "Traitement du secteur: Civil Engineer resumes\n"
          ]
        },
        {
          "output_type": "stream",
          "name": "stderr",
          "text": [
            "100%|██████████| 89/89 [12:40<00:00,  8.54s/it]\n"
          ]
        },
        {
          "output_type": "stream",
          "name": "stdout",
          "text": [
            "\n",
            "Traitement du secteur: Apparel resumes\n"
          ]
        },
        {
          "output_type": "stream",
          "name": "stderr",
          "text": [
            "100%|██████████| 51/51 [06:03<00:00,  7.12s/it]\n"
          ]
        },
        {
          "output_type": "stream",
          "name": "stdout",
          "text": [
            "\n",
            "Traitement du secteur: Automobile resumes\n"
          ]
        },
        {
          "output_type": "stream",
          "name": "stderr",
          "text": [
            "100%|██████████| 41/41 [04:04<00:00,  5.97s/it]\n"
          ]
        },
        {
          "output_type": "stream",
          "name": "stdout",
          "text": [
            "\n",
            "Traitement du secteur: Arts resumes\n"
          ]
        },
        {
          "output_type": "stream",
          "name": "stderr",
          "text": [
            "100%|██████████| 87/87 [10:41<00:00,  7.38s/it]\n"
          ]
        },
        {
          "output_type": "stream",
          "name": "stdout",
          "text": [
            "\n",
            "Traitement du secteur: Agricultural resumes\n"
          ]
        },
        {
          "output_type": "stream",
          "name": "stderr",
          "text": [
            "100%|██████████| 68/68 [07:01<00:00,  6.20s/it]\n"
          ]
        },
        {
          "output_type": "stream",
          "name": "stdout",
          "text": [
            "\n",
            "Traitement du secteur: Architects resumes\n"
          ]
        },
        {
          "output_type": "stream",
          "name": "stderr",
          "text": [
            "100%|██████████| 62/62 [11:06<00:00, 10.75s/it]\n"
          ]
        },
        {
          "output_type": "stream",
          "name": "stdout",
          "text": [
            "\n",
            "Traitement du secteur: Advocate resumes\n"
          ]
        },
        {
          "output_type": "stream",
          "name": "stderr",
          "text": [
            "100%|██████████| 94/94 [10:25<00:00,  6.65s/it]\n"
          ]
        },
        {
          "output_type": "stream",
          "name": "stdout",
          "text": [
            "\n",
            "Traitement du secteur: Accountant resumes\n"
          ]
        },
        {
          "output_type": "stream",
          "name": "stderr",
          "text": [
            "100%|██████████| 67/67 [08:40<00:00,  7.77s/it]\n"
          ]
        },
        {
          "output_type": "stream",
          "name": "stdout",
          "text": [
            "\n",
            "Statistiques du traitement:\n",
            "Total des fichiers: 2852\n",
            "Fichiers valides: 2724\n",
            "Fichiers invalides: 128\n"
          ]
        }
      ]
    }
  ]
}